{
 "cells": [
  {
   "cell_type": "markdown",
   "metadata": {},
   "source": [
    "# Data visualization and exploration.\n",
    "\n",
    "* Notes: The datasets that you will use will be located on the folder `../data/preprocessed/`, there are three datasets you may use such as `cleaned_club_ranking.csv`, `cleaned_jessie_ranking.csv` and `cleaned_mexico_clubs_ranking.csv`"
   ]
  }
 ],
 "metadata": {
  "language_info": {
   "name": "python"
  }
 },
 "nbformat": 4,
 "nbformat_minor": 2
}
